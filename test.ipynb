{
 "cells": [
  {
   "cell_type": "code",
   "execution_count": 2,
   "metadata": {},
   "outputs": [],
   "source": [
    "import json\n",
    "\n",
    "with open('./matched_fd.json') as f:\n",
    "    data = json.load(f)\n",
    "    \n",
    "from pprint import pprint\n"
   ]
  },
  {
   "cell_type": "code",
   "execution_count": 2,
   "metadata": {},
   "outputs": [
    {
     "data": {
      "text/plain": [
       "2503"
      ]
     },
     "execution_count": 2,
     "metadata": {},
     "output_type": "execute_result"
    }
   ],
   "source": [
    "len(data)"
   ]
  },
  {
   "cell_type": "code",
   "execution_count": 5,
   "metadata": {},
   "outputs": [],
   "source": [
    "# Assuming `data` is a list and you want the first 500 items\n",
    "extracted_data = data[2200:2503]\n",
    "\n",
    "# Now, save the extracted_data to a new JSON file\n",
    "with open('test.json', 'w') as new_file:\n",
    "    json.dump(extracted_data, new_file, indent=4)\n"
   ]
  },
  {
   "cell_type": "code",
   "execution_count": 17,
   "metadata": {},
   "outputs": [],
   "source": [
    "with open('./test.json') as f:\n",
    "    data2 = json.load(f)"
   ]
  },
  {
   "cell_type": "code",
   "execution_count": 18,
   "metadata": {},
   "outputs": [
    {
     "data": {
      "text/plain": [
       "108"
      ]
     },
     "execution_count": 18,
     "metadata": {},
     "output_type": "execute_result"
    }
   ],
   "source": [
    "len(data2)"
   ]
  },
  {
   "cell_type": "code",
   "execution_count": 20,
   "metadata": {},
   "outputs": [],
   "source": [
    "# data2[-1]"
   ]
  },
  {
   "cell_type": "code",
   "execution_count": 4,
   "metadata": {},
   "outputs": [],
   "source": [
    "import json\n",
    "\n",
    "# Load the first dataset\n",
    "with open('adv_942_items.json', 'r') as file:\n",
    "    data1 = json.load(file)\n",
    "\n",
    "# Load the second dataset\n",
    "with open('adv_2100_items.json', 'r') as file:\n",
    "    data2 = json.load(file)\n",
    "\n",
    "# Combine both datasets\n",
    "combined_data = data1 + data2\n",
    "\n",
    "# Save the combined dataset to a new JSON file\n",
    "with open('combined_dataset.json', 'w') as file:\n",
    "    json.dump(combined_data, file, indent=4)  # Use indent for pretty-printing\n"
   ]
  },
  {
   "cell_type": "code",
   "execution_count": 9,
   "metadata": {},
   "outputs": [
    {
     "data": {
      "text/html": [
       "<div>\n",
       "<style scoped>\n",
       "    .dataframe tbody tr th:only-of-type {\n",
       "        vertical-align: middle;\n",
       "    }\n",
       "\n",
       "    .dataframe tbody tr th {\n",
       "        vertical-align: top;\n",
       "    }\n",
       "\n",
       "    .dataframe thead th {\n",
       "        text-align: right;\n",
       "    }\n",
       "</style>\n",
       "<table border=\"1\" class=\"dataframe\">\n",
       "  <thead>\n",
       "    <tr style=\"text-align: right;\">\n",
       "      <th></th>\n",
       "      <th>doc_record_id</th>\n",
       "      <th>doc_filename</th>\n",
       "      <th>gs_icd_label</th>\n",
       "      <th>doc_registry</th>\n",
       "      <th>gs_behavior_label</th>\n",
       "      <th>doc_patient_id</th>\n",
       "      <th>gs_hist_grade_label</th>\n",
       "      <th>gs_lat_label</th>\n",
       "      <th>gs_organ_label</th>\n",
       "      <th>doc_raw_text</th>\n",
       "    </tr>\n",
       "  </thead>\n",
       "  <tbody>\n",
       "    <tr>\n",
       "      <th>0</th>\n",
       "      <td></td>\n",
       "      <td>KY-REC-0000000558.NCI.XML</td>\n",
       "      <td>{'match_status': 'unmatched', 'match_source': ...</td>\n",
       "      <td>KY</td>\n",
       "      <td>{'match_status': 'unmatched', 'match_source': ...</td>\n",
       "      <td>497009</td>\n",
       "      <td>{'match_status': 'unmatched', 'match_source': ...</td>\n",
       "      <td>{'match_status': 'unmatched', 'match_source': ...</td>\n",
       "      <td>{'match_status': 'unmatched', 'match_source': ...</td>\n",
       "      <td>CLINICAL HISTORY Preop diagnosis:  pelvic mass...</td>\n",
       "    </tr>\n",
       "    <tr>\n",
       "      <th>1</th>\n",
       "      <td>3000648339</td>\n",
       "      <td>NM-REC-3000648339.NCI.XML</td>\n",
       "      <td>{'match_status': 'unmatched', 'match_source': ...</td>\n",
       "      <td>NM</td>\n",
       "      <td>{'match_status': 'unmatched', 'match_source': ...</td>\n",
       "      <td>10045204</td>\n",
       "      <td>{'match_status': 'unmatched', 'match_source': ...</td>\n",
       "      <td>{'match_status': 'unmatched', 'match_source': ...</td>\n",
       "      <td>{'match_status': 'unmatched', 'match_source': ...</td>\n",
       "      <td>CLINICAL INFORMATION:  None provided.\\nCASE: *...</td>\n",
       "    </tr>\n",
       "    <tr>\n",
       "      <th>2</th>\n",
       "      <td></td>\n",
       "      <td>KY-REC-0000000205.NCI.XML</td>\n",
       "      <td>{'match_status': 'matched', 'match_source': 'f...</td>\n",
       "      <td>KY</td>\n",
       "      <td>{'match_status': 'matched', 'match_source': 'f...</td>\n",
       "      <td>490900</td>\n",
       "      <td>{'match_status': 'matched', 'match_source': 'f...</td>\n",
       "      <td>{'match_status': 'matched', 'match_source': 'f...</td>\n",
       "      <td>{'match_status': 'matched', 'match_source': 'f...</td>\n",
       "      <td>Clinical Diagnosis and History The working his...</td>\n",
       "    </tr>\n",
       "    <tr>\n",
       "      <th>3</th>\n",
       "      <td>3000624844</td>\n",
       "      <td>NM-REC-3000624844.NCI.XML</td>\n",
       "      <td>{'match_status': 'matched', 'match_source': 'f...</td>\n",
       "      <td>NM</td>\n",
       "      <td>{'match_status': 'matched', 'match_source': 'f...</td>\n",
       "      <td>10044886</td>\n",
       "      <td>{'match_status': 'unmatched', 'match_source': ...</td>\n",
       "      <td>{'match_status': 'matched', 'match_source': 'f...</td>\n",
       "      <td>{'match_status': 'matched', 'match_source': 'f...</td>\n",
       "      <td>CLINICAL INFORMATION: Right lung mass.\\nCASE: ...</td>\n",
       "    </tr>\n",
       "    <tr>\n",
       "      <th>4</th>\n",
       "      <td>3000685559</td>\n",
       "      <td>NM-REC-3000685559.NCI.XML</td>\n",
       "      <td>{'match_status': 'unmatched', 'match_source': ...</td>\n",
       "      <td>NM</td>\n",
       "      <td>{'match_status': 'unmatched', 'match_source': ...</td>\n",
       "      <td>10041066</td>\n",
       "      <td>{'match_status': 'unmatched', 'match_source': ...</td>\n",
       "      <td>{'match_status': 'unmatched', 'match_source': ...</td>\n",
       "      <td>{'match_status': 'unmatched', 'match_source': ...</td>\n",
       "      <td>CLINICAL INFORMATION:  **AGE[in 50s] year old ...</td>\n",
       "    </tr>\n",
       "  </tbody>\n",
       "</table>\n",
       "</div>"
      ],
      "text/plain": [
       "  doc_record_id               doc_filename  \\\n",
       "0                KY-REC-0000000558.NCI.XML   \n",
       "1    3000648339  NM-REC-3000648339.NCI.XML   \n",
       "2                KY-REC-0000000205.NCI.XML   \n",
       "3    3000624844  NM-REC-3000624844.NCI.XML   \n",
       "4    3000685559  NM-REC-3000685559.NCI.XML   \n",
       "\n",
       "                                        gs_icd_label doc_registry  \\\n",
       "0  {'match_status': 'unmatched', 'match_source': ...           KY   \n",
       "1  {'match_status': 'unmatched', 'match_source': ...           NM   \n",
       "2  {'match_status': 'matched', 'match_source': 'f...           KY   \n",
       "3  {'match_status': 'matched', 'match_source': 'f...           NM   \n",
       "4  {'match_status': 'unmatched', 'match_source': ...           NM   \n",
       "\n",
       "                                   gs_behavior_label doc_patient_id  \\\n",
       "0  {'match_status': 'unmatched', 'match_source': ...         497009   \n",
       "1  {'match_status': 'unmatched', 'match_source': ...       10045204   \n",
       "2  {'match_status': 'matched', 'match_source': 'f...         490900   \n",
       "3  {'match_status': 'matched', 'match_source': 'f...       10044886   \n",
       "4  {'match_status': 'unmatched', 'match_source': ...       10041066   \n",
       "\n",
       "                                 gs_hist_grade_label  \\\n",
       "0  {'match_status': 'unmatched', 'match_source': ...   \n",
       "1  {'match_status': 'unmatched', 'match_source': ...   \n",
       "2  {'match_status': 'matched', 'match_source': 'f...   \n",
       "3  {'match_status': 'unmatched', 'match_source': ...   \n",
       "4  {'match_status': 'unmatched', 'match_source': ...   \n",
       "\n",
       "                                        gs_lat_label  \\\n",
       "0  {'match_status': 'unmatched', 'match_source': ...   \n",
       "1  {'match_status': 'unmatched', 'match_source': ...   \n",
       "2  {'match_status': 'matched', 'match_source': 'f...   \n",
       "3  {'match_status': 'matched', 'match_source': 'f...   \n",
       "4  {'match_status': 'unmatched', 'match_source': ...   \n",
       "\n",
       "                                      gs_organ_label  \\\n",
       "0  {'match_status': 'unmatched', 'match_source': ...   \n",
       "1  {'match_status': 'unmatched', 'match_source': ...   \n",
       "2  {'match_status': 'matched', 'match_source': 'f...   \n",
       "3  {'match_status': 'matched', 'match_source': 'f...   \n",
       "4  {'match_status': 'unmatched', 'match_source': ...   \n",
       "\n",
       "                                        doc_raw_text  \n",
       "0  CLINICAL HISTORY Preop diagnosis:  pelvic mass...  \n",
       "1  CLINICAL INFORMATION:  None provided.\\nCASE: *...  \n",
       "2  Clinical Diagnosis and History The working his...  \n",
       "3  CLINICAL INFORMATION: Right lung mass.\\nCASE: ...  \n",
       "4  CLINICAL INFORMATION:  **AGE[in 50s] year old ...  "
      ]
     },
     "execution_count": 9,
     "metadata": {},
     "output_type": "execute_result"
    }
   ],
   "source": [
    "import pandas as pd\n",
    "\n",
    "df = pd.DataFrame(data)\n",
    "df.head(5)"
   ]
  },
  {
   "cell_type": "code",
   "execution_count": 19,
   "metadata": {},
   "outputs": [],
   "source": [
    "import re"
   ]
  },
  {
   "cell_type": "code",
   "execution_count": 17,
   "metadata": {},
   "outputs": [],
   "source": [
    "def cleanText(text):\n",
    "    '''\n",
    "    function to clean text\n",
    "    '''\n",
    "    #replace symbols and tokens\n",
    "    text = re.sub('\\n|\\r', ' ', text)\n",
    "    text = re.sub('o clock', 'oclock', text, flags=re.IGNORECASE)\n",
    "    text = re.sub(r'(p\\.?m\\.?)','pm', text, flags=re.IGNORECASE)\n",
    "    text = re.sub(r'(a\\.?m\\.?)', 'am', text, flags=re.IGNORECASE)\n",
    "    text = re.sub(r'(dr\\.)', 'dr', text, flags=re.IGNORECASE)\n",
    "    text = re.sub('\\*\\*NAME.*[^\\]]\\]', 'nametoken', text)\n",
    "    text = re.sub('\\*\\*DATE.*[^\\]]\\]', 'datetoken', text)\n",
    "    text = re.sub(\"\\?|'\", '', text)\n",
    "    text = re.sub('[^\\w.;:]|_|-', ' ', text)\n",
    "    text = re.sub('[0-9]+\\.[0-9]+','floattoken', text)\n",
    "    text = re.sub('floattokencm','floattoken cm', text)\n",
    "    text = re.sub(' [0-9][0-9][0-9]+ ',' largeint ', text)\n",
    "    text = re.sub('\\.', ' . ', text)\n",
    "    text = re.sub(':', ' : ', text)\n",
    "    text = re.sub(';', ' ; ', text)\n",
    "\n",
    "    #lowercase\n",
    "    text = text.lower()\n",
    "\n",
    "    #tokenize\n",
    "    text = text.split()\n",
    "    return text"
   ]
  },
  {
   "cell_type": "code",
   "execution_count": 4,
   "metadata": {},
   "outputs": [],
   "source": [
    "def get_valid_label(gs_icd_label,data):\n",
    "    \"\"\"\n",
    "    function to get text,labels for valid tasks\n",
    "    \"\"\"\n",
    "    #print(in_data[0])\n",
    "    valid_entries = [x for x in data if x[gs_icd_label]['match_status']==\"matched\"]\n",
    "    # valid_text = [x['doc_raw_text'] for x in valid_entries]\n",
    "    # valid_tokens = [cleanText(x) for x in valid_text]\n",
    "    # valid_labels = [x[task_name]['match_label'] for x in valid_entries]\n",
    "    # return list(zip(valid_tokens,valid_labels))\n",
    "    \n",
    "    return valid_entries"
   ]
  },
  {
   "cell_type": "code",
   "execution_count": 6,
   "metadata": {},
   "outputs": [],
   "source": [
    "valid_entries = [x for x in data if x['gs_icd_label']['match_status']==\"matched\"]"
   ]
  },
  {
   "cell_type": "code",
   "execution_count": 7,
   "metadata": {},
   "outputs": [
    {
     "data": {
      "text/plain": [
       "951"
      ]
     },
     "execution_count": 7,
     "metadata": {},
     "output_type": "execute_result"
    }
   ],
   "source": [
    "len(valid_entries)"
   ]
  },
  {
   "cell_type": "code",
   "execution_count": 8,
   "metadata": {},
   "outputs": [],
   "source": [
    "valid_text = [x['doc_raw_text'] for x in valid_entries]"
   ]
  },
  {
   "cell_type": "code",
   "execution_count": 9,
   "metadata": {},
   "outputs": [
    {
     "data": {
      "text/plain": [
       "951"
      ]
     },
     "execution_count": 9,
     "metadata": {},
     "output_type": "execute_result"
    }
   ],
   "source": [
    "len(valid_text)"
   ]
  },
  {
   "cell_type": "code",
   "execution_count": 20,
   "metadata": {},
   "outputs": [],
   "source": [
    "valid_tokens = [cleanText(x) for x in valid_text]"
   ]
  },
  {
   "cell_type": "code",
   "execution_count": 21,
   "metadata": {},
   "outputs": [],
   "source": [
    "valid_labels = [x['gs_icd_label']['match_label'] for x in valid_entries]"
   ]
  },
  {
   "cell_type": "code",
   "execution_count": 22,
   "metadata": {},
   "outputs": [
    {
     "data": {
      "text/plain": [
       "951"
      ]
     },
     "execution_count": 22,
     "metadata": {},
     "output_type": "execute_result"
    }
   ],
   "source": [
    "len(valid_labels)"
   ]
  },
  {
   "cell_type": "code",
   "execution_count": 24,
   "metadata": {},
   "outputs": [],
   "source": [
    "hello = list(zip(valid_tokens,valid_labels))"
   ]
  },
  {
   "cell_type": "code",
   "execution_count": 25,
   "metadata": {},
   "outputs": [
    {
     "name": "stdout",
     "output_type": "stream",
     "text": [
      "951\n"
     ]
    }
   ],
   "source": [
    "print(len(hello))"
   ]
  },
  {
   "cell_type": "code",
   "execution_count": 1,
   "metadata": {},
   "outputs": [
    {
     "ename": "NameError",
     "evalue": "name 'hello' is not defined",
     "output_type": "error",
     "traceback": [
      "\u001b[0;31m---------------------------------------------------------------------------\u001b[0m",
      "\u001b[0;31mNameError\u001b[0m                                 Traceback (most recent call last)",
      "Cell \u001b[0;32mIn[1], line 1\u001b[0m\n\u001b[0;32m----> 1\u001b[0m \u001b[39mprint\u001b[39m(hello[\u001b[39m-\u001b[39m\u001b[39m1\u001b[39m])\n",
      "\u001b[0;31mNameError\u001b[0m: name 'hello' is not defined"
     ]
    }
   ],
   "source": [
    "print(hello[-1])"
   ]
  }
 ],
 "metadata": {
  "kernelspec": {
   "display_name": "Python 3",
   "language": "python",
   "name": "python3"
  },
  "language_info": {
   "codemirror_mode": {
    "name": "ipython",
    "version": 3
   },
   "file_extension": ".py",
   "mimetype": "text/x-python",
   "name": "python",
   "nbconvert_exporter": "python",
   "pygments_lexer": "ipython3",
   "version": "3.11.5"
  },
  "orig_nbformat": 4
 },
 "nbformat": 4,
 "nbformat_minor": 2
}
